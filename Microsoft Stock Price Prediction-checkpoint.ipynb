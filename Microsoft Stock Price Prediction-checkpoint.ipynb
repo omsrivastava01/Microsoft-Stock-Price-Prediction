{
 "cells": [
  {
   "cell_type": "code",
   "execution_count": 53,
   "id": "f9b0b494",
   "metadata": {},
   "outputs": [],
   "source": [
    "import pandas as pd\n",
    "import numpy as np\n",
    "%matplotlib inline\n",
    "import matplotlib. pyplot as plt\n",
    "import matplotlib\n",
    "from sklearn.preprocessing import MinMaxScaler\n",
    "from keras.layers import LSTM, Dense, Dropout\n",
    "from sklearn.model_selection import TimeSeriesSplit\n",
    "from sklearn.metrics import mean_squared_error, r2_score\n",
    "import matplotlib.dates as mandates\n",
    "from sklearn.preprocessing import MinMaxScaler\n",
    "from sklearn import linear_model\n",
    "from keras.models import Sequential\n",
    "from keras.layers import Dense\n",
    "import keras.backend as K\n",
    "from keras.callbacks import EarlyStopping\n",
    "from tensorflow.keras.optimizers import Adam\n",
    "from keras.models import load_model\n",
    "from keras.layers import LSTM\n",
    "from tensorflow.keras.utils import plot_model"
   ]
  },
  {
   "cell_type": "code",
   "execution_count": 54,
   "id": "f600f85f",
   "metadata": {},
   "outputs": [],
   "source": [
    "from datetime import datetime \n",
    "import tensorflow as tf \n",
    "from tensorflow import keras \n",
    "import pandas as pd \n",
    "import matplotlib.pyplot as plt \n",
    "from sklearn.preprocessing import StandardScaler \n",
    "import numpy as np \n",
    "import seaborn as sns "
   ]
  },
  {
   "cell_type": "code",
   "execution_count": 55,
   "id": "3ff907d2",
   "metadata": {},
   "outputs": [
    {
     "name": "stdout",
     "output_type": "stream",
     "text": [
      "         Date      Open      High       Low     Close  Adj Close      Volume\n",
      "0  1986-03-13  0.088542  0.101563  0.088542  0.097222   0.061434  1031788800\n",
      "1  1986-03-14  0.097222  0.102431  0.097222  0.100694   0.063628   308160000\n",
      "2  1986-03-17  0.100694  0.103299  0.100694  0.102431   0.064725   133171200\n",
      "3  1986-03-18  0.102431  0.103299  0.098958  0.099826   0.063079    67766400\n",
      "4  1986-03-19  0.099826  0.100694  0.097222  0.098090   0.061982    47894400\n"
     ]
    }
   ],
   "source": [
    "microsoft = pd.read_csv(r\"C:\\Users\\KIIT\\Stock Price Prediction\\archive\\MicrosoftStock.csv\") \n",
    "print(microsoft.head()) "
   ]
  },
  {
   "cell_type": "code",
   "execution_count": 56,
   "id": "06cdaadb",
   "metadata": {},
   "outputs": [
    {
     "data": {
      "text/plain": [
       "(9083, 7)"
      ]
     },
     "execution_count": 56,
     "metadata": {},
     "output_type": "execute_result"
    }
   ],
   "source": [
    "microsoft.shape"
   ]
  },
  {
   "cell_type": "code",
   "execution_count": 57,
   "id": "2e337284",
   "metadata": {},
   "outputs": [
    {
     "name": "stdout",
     "output_type": "stream",
     "text": [
      "<class 'pandas.core.frame.DataFrame'>\n",
      "RangeIndex: 9083 entries, 0 to 9082\n",
      "Data columns (total 7 columns):\n",
      " #   Column     Non-Null Count  Dtype  \n",
      "---  ------     --------------  -----  \n",
      " 0   Date       9083 non-null   object \n",
      " 1   Open       9083 non-null   float64\n",
      " 2   High       9083 non-null   float64\n",
      " 3   Low        9083 non-null   float64\n",
      " 4   Close      9083 non-null   float64\n",
      " 5   Adj Close  9083 non-null   float64\n",
      " 6   Volume     9083 non-null   int64  \n",
      "dtypes: float64(5), int64(1), object(1)\n",
      "memory usage: 496.9+ KB\n"
     ]
    }
   ],
   "source": [
    "microsoft.info()"
   ]
  },
  {
   "cell_type": "code",
   "execution_count": 58,
   "id": "c8e30fa7",
   "metadata": {},
   "outputs": [
    {
     "data": {
      "text/html": [
       "<div>\n",
       "<style scoped>\n",
       "    .dataframe tbody tr th:only-of-type {\n",
       "        vertical-align: middle;\n",
       "    }\n",
       "\n",
       "    .dataframe tbody tr th {\n",
       "        vertical-align: top;\n",
       "    }\n",
       "\n",
       "    .dataframe thead th {\n",
       "        text-align: right;\n",
       "    }\n",
       "</style>\n",
       "<table border=\"1\" class=\"dataframe\">\n",
       "  <thead>\n",
       "    <tr style=\"text-align: right;\">\n",
       "      <th></th>\n",
       "      <th>Open</th>\n",
       "      <th>High</th>\n",
       "      <th>Low</th>\n",
       "      <th>Close</th>\n",
       "      <th>Adj Close</th>\n",
       "      <th>Volume</th>\n",
       "    </tr>\n",
       "  </thead>\n",
       "  <tbody>\n",
       "    <tr>\n",
       "      <th>count</th>\n",
       "      <td>9083.000000</td>\n",
       "      <td>9083.000000</td>\n",
       "      <td>9083.000000</td>\n",
       "      <td>9083.000000</td>\n",
       "      <td>9083.000000</td>\n",
       "      <td>9.083000e+03</td>\n",
       "    </tr>\n",
       "    <tr>\n",
       "      <th>mean</th>\n",
       "      <td>41.324936</td>\n",
       "      <td>41.760887</td>\n",
       "      <td>40.878488</td>\n",
       "      <td>41.335628</td>\n",
       "      <td>36.256120</td>\n",
       "      <td>5.875055e+07</td>\n",
       "    </tr>\n",
       "    <tr>\n",
       "      <th>std</th>\n",
       "      <td>59.696905</td>\n",
       "      <td>60.272218</td>\n",
       "      <td>59.081728</td>\n",
       "      <td>59.714567</td>\n",
       "      <td>59.981436</td>\n",
       "      <td>3.845200e+07</td>\n",
       "    </tr>\n",
       "    <tr>\n",
       "      <th>min</th>\n",
       "      <td>0.088542</td>\n",
       "      <td>0.092014</td>\n",
       "      <td>0.088542</td>\n",
       "      <td>0.090278</td>\n",
       "      <td>0.057046</td>\n",
       "      <td>2.304000e+06</td>\n",
       "    </tr>\n",
       "    <tr>\n",
       "      <th>25%</th>\n",
       "      <td>4.050781</td>\n",
       "      <td>4.102051</td>\n",
       "      <td>4.027344</td>\n",
       "      <td>4.075195</td>\n",
       "      <td>2.575089</td>\n",
       "      <td>3.461230e+07</td>\n",
       "    </tr>\n",
       "    <tr>\n",
       "      <th>50%</th>\n",
       "      <td>26.820000</td>\n",
       "      <td>27.100000</td>\n",
       "      <td>26.520000</td>\n",
       "      <td>26.840000</td>\n",
       "      <td>18.948530</td>\n",
       "      <td>5.203200e+07</td>\n",
       "    </tr>\n",
       "    <tr>\n",
       "      <th>75%</th>\n",
       "      <td>40.034999</td>\n",
       "      <td>40.443751</td>\n",
       "      <td>39.500000</td>\n",
       "      <td>39.937500</td>\n",
       "      <td>29.244812</td>\n",
       "      <td>7.265400e+07</td>\n",
       "    </tr>\n",
       "    <tr>\n",
       "      <th>max</th>\n",
       "      <td>344.619995</td>\n",
       "      <td>349.670013</td>\n",
       "      <td>342.200012</td>\n",
       "      <td>343.109985</td>\n",
       "      <td>342.402008</td>\n",
       "      <td>1.031789e+09</td>\n",
       "    </tr>\n",
       "  </tbody>\n",
       "</table>\n",
       "</div>"
      ],
      "text/plain": [
       "              Open         High          Low        Close    Adj Close  \\\n",
       "count  9083.000000  9083.000000  9083.000000  9083.000000  9083.000000   \n",
       "mean     41.324936    41.760887    40.878488    41.335628    36.256120   \n",
       "std      59.696905    60.272218    59.081728    59.714567    59.981436   \n",
       "min       0.088542     0.092014     0.088542     0.090278     0.057046   \n",
       "25%       4.050781     4.102051     4.027344     4.075195     2.575089   \n",
       "50%      26.820000    27.100000    26.520000    26.840000    18.948530   \n",
       "75%      40.034999    40.443751    39.500000    39.937500    29.244812   \n",
       "max     344.619995   349.670013   342.200012   343.109985   342.402008   \n",
       "\n",
       "             Volume  \n",
       "count  9.083000e+03  \n",
       "mean   5.875055e+07  \n",
       "std    3.845200e+07  \n",
       "min    2.304000e+06  \n",
       "25%    3.461230e+07  \n",
       "50%    5.203200e+07  \n",
       "75%    7.265400e+07  \n",
       "max    1.031789e+09  "
      ]
     },
     "execution_count": 58,
     "metadata": {},
     "output_type": "execute_result"
    }
   ],
   "source": [
    "microsoft.describe()"
   ]
  },
  {
   "cell_type": "code",
   "execution_count": 59,
   "id": "855c8565",
   "metadata": {},
   "outputs": [
    {
     "data": {
      "text/plain": [
       "<matplotlib.legend.Legend at 0x294e1c26fb0>"
      ]
     },
     "execution_count": 59,
     "metadata": {},
     "output_type": "execute_result"
    },
    {
     "data": {
      "image/png": "[encoded data removed]",
      "text/plain": [
       "<Figure size 432x288 with 1 Axes>"
      ]
     },
     "metadata": {
      "needs_background": "light"
     },
     "output_type": "display_data"
    }
   ],
   "source": [
    "plt.plot(microsoft['Date'], \n",
    "         microsoft['Open'], \n",
    "         color=\"blue\", \n",
    "         label=\"Open\") \n",
    "plt.plot(microsoft['Date'], \n",
    "         microsoft['Close'], \n",
    "         color=\"green\", \n",
    "         label=\"Close\") \n",
    "plt.title(\"Microsoft Open-Close Stock\") \n",
    "plt.legend() "
   ]
  },
  {
   "cell_type": "code",
   "execution_count": 60,
   "id": "f8fcae78",
   "metadata": {},
   "outputs": [
    {
     "data": {
      "image/png": "[encoded data removed]",
      "text/plain": [
       "<Figure size 432x288 with 1 Axes>"
      ]
     },
     "metadata": {
      "needs_background": "light"
     },
     "output_type": "display_data"
    }
   ],
   "source": [
    "plt.plot(microsoft['Date'], \n",
    "         microsoft['Volume']) \n",
    "plt.show()\n"
   ]
  },
  {
   "cell_type": "code",
   "execution_count": 61,
   "id": "caab29f4",
   "metadata": {},
   "outputs": [
    {
     "data": {
      "image/png": "[encoded data removed]",
      "text/plain": [
       "<Figure size 432x288 with 1 Axes>"
      ]
     },
     "metadata": {
      "needs_background": "light"
     },
     "output_type": "display_data"
    }
   ],
   "source": [
    "sns.heatmap(microsoft.corr(), \n",
    "            annot=True, \n",
    "            cbar=False) \n",
    "plt.show() "
   ]
  },
  {
   "cell_type": "code",
   "execution_count": 62,
   "id": "a3ae8504",
   "metadata": {},
   "outputs": [
    {
     "data": {
      "text/plain": [
       "Text(0.5, 1.0, 'Microsoft Stock Prices')"
      ]
     },
     "execution_count": 62,
     "metadata": {},
     "output_type": "execute_result"
    },
    {
     "data": {
      "image/png": "[encoded data removed]",
      "text/plain": [
       "<Figure size 720x720 with 1 Axes>"
      ]
     },
     "metadata": {
      "needs_background": "light"
     },
     "output_type": "display_data"
    }
   ],
   "source": [
    "microsoft['Date'] = pd.to_datetime(microsoft['Date']) \n",
    "prediction = microsoft.loc[(microsoft['Date'] \n",
    "                            > datetime(2013, 1, 1)) \n",
    "                            & (microsoft['Date'] \n",
    "                            < datetime(2018, 1, 1))] \n",
    "  \n",
    "plt.figure(figsize=(10, 10)) \n",
    "plt.plot(microsoft['Date'], microsoft['Close']) \n",
    "plt.xlabel(\"Date\") \n",
    "plt.ylabel(\"Close\") \n",
    "plt.title(\"Microsoft Stock Prices\")"
   ]
  },
  {
   "cell_type": "code",
   "execution_count": 63,
   "id": "cc9c99bb",
   "metadata": {},
   "outputs": [],
   "source": [
    "msft_close = microsoft.filter(['Close']) \n",
    "dataset = msft_close.values \n",
    "training = int(np.ceil(len(dataset) * 95)) \n",
    "  \n",
    "# scale the data \n",
    "ss = StandardScaler() \n",
    "ss = ss.fit_transform(dataset) \n",
    "  \n",
    "train_data = ss[0:int(training), :] \n",
    "  \n",
    "x_train = [] \n",
    "y_train = [] \n",
    "  \n",
    "# considering 60 as the batch size, \n",
    "# create the X_train and y_train \n",
    "for i in range(60, len(train_data)): \n",
    "    x_train.append(train_data[i-60:i, 0]) \n",
    "    y_train.append(train_data[i, 0]) \n",
    "  \n",
    "x_train, y_train = np.array(x_train),np.array(y_train) \n",
    "X_train = np.reshape(x_train, \n",
    "                     (x_train.shape[0], \n",
    "                      x_train.shape[1], 1))"
   ]
  },
  {
   "cell_type": "code",
   "execution_count": 64,
   "id": "4757c69e",
   "metadata": {},
   "outputs": [
    {
     "name": "stdout",
     "output_type": "stream",
     "text": [
      "Model: \"sequential_2\"\n",
      "_________________________________________________________________\n",
      " Layer (type)                Output Shape              Param #   \n",
      "=================================================================\n",
      " lstm_4 (LSTM)               (None, 60, 64)            16896     \n",
      "                                                                 \n",
      " lstm_5 (LSTM)               (None, 64)                33024     \n",
      "                                                                 \n",
      " dense_4 (Dense)             (None, 128)               8320      \n",
      "                                                                 \n",
      " dropout_2 (Dropout)         (None, 128)               0         \n",
      "                                                                 \n",
      " dense_5 (Dense)             (None, 1)                 129       \n",
      "                                                                 \n",
      "=================================================================\n",
      "Total params: 58369 (228.00 KB)\n",
      "Trainable params: 58369 (228.00 KB)\n",
      "Non-trainable params: 0 (0.00 Byte)\n",
      "_________________________________________________________________\n",
      "None\n"
     ]
    }
   ],
   "source": [
    "model = keras.models.Sequential() \n",
    "model.add(keras.layers.LSTM(units=64, \n",
    "                            return_sequences=True, \n",
    "                            input_shape \n",
    "                            =(X_train.shape[1], 1))) \n",
    "model.add(keras.layers.LSTM(units=64)) \n",
    "model.add(keras.layers.Dense(128)) \n",
    "model.add(keras.layers.Dropout(0.5)) \n",
    "model.add(keras.layers.Dense(1)) \n",
    "  \n",
    "print(model.summary())"
   ]
  },
  {
   "cell_type": "code",
   "execution_count": 65,
   "id": "aa348d4e",
   "metadata": {},
   "outputs": [
    {
     "name": "stdout",
     "output_type": "stream",
     "text": [
      "Epoch 1/20\n",
      "282/282 [==============================] - 18s 44ms/step - loss: 0.0835 - root_mean_squared_error: 0.2154\n",
      "Epoch 2/20\n",
      "282/282 [==============================] - 16s 58ms/step - loss: 0.0568 - root_mean_squared_error: 0.1171\n",
      "Epoch 3/20\n",
      "282/282 [==============================] - 16s 56ms/step - loss: 0.0523 - root_mean_squared_error: 0.1082\n",
      "Epoch 4/20\n",
      "282/282 [==============================] - 16s 58ms/step - loss: 0.0511 - root_mean_squared_error: 0.1085\n",
      "Epoch 5/20\n",
      "282/282 [==============================] - 16s 57ms/step - loss: 0.0517 - root_mean_squared_error: 0.1101\n",
      "Epoch 6/20\n",
      "282/282 [==============================] - 16s 59ms/step - loss: 0.0476 - root_mean_squared_error: 0.1052\n",
      "Epoch 7/20\n",
      "282/282 [==============================] - 17s 60ms/step - loss: 0.0475 - root_mean_squared_error: 0.1046\n",
      "Epoch 8/20\n",
      "282/282 [==============================] - 17s 61ms/step - loss: 0.0452 - root_mean_squared_error: 0.0972\n",
      "Epoch 9/20\n",
      "282/282 [==============================] - 17s 61ms/step - loss: 0.0460 - root_mean_squared_error: 0.1015\n",
      "Epoch 10/20\n",
      "282/282 [==============================] - 19s 66ms/step - loss: 0.0468 - root_mean_squared_error: 0.1050\n",
      "Epoch 11/20\n",
      "282/282 [==============================] - 20s 70ms/step - loss: 0.0472 - root_mean_squared_error: 0.1093\n",
      "Epoch 12/20\n",
      "282/282 [==============================] - 18s 64ms/step - loss: 0.0458 - root_mean_squared_error: 0.1002\n",
      "Epoch 13/20\n",
      "282/282 [==============================] - 19s 66ms/step - loss: 0.0458 - root_mean_squared_error: 0.1052\n",
      "Epoch 14/20\n",
      "282/282 [==============================] - 18s 66ms/step - loss: 0.0442 - root_mean_squared_error: 0.1030\n",
      "Epoch 15/20\n",
      "282/282 [==============================] - 18s 65ms/step - loss: 0.0447 - root_mean_squared_error: 0.1047\n",
      "Epoch 16/20\n",
      "282/282 [==============================] - 19s 67ms/step - loss: 0.0452 - root_mean_squared_error: 0.1033\n",
      "Epoch 17/20\n",
      "282/282 [==============================] - 19s 67ms/step - loss: 0.0437 - root_mean_squared_error: 0.0995\n",
      "Epoch 18/20\n",
      "282/282 [==============================] - 19s 68ms/step - loss: 0.0437 - root_mean_squared_error: 0.1021\n",
      "Epoch 19/20\n",
      "282/282 [==============================] - 19s 69ms/step - loss: 0.0432 - root_mean_squared_error: 0.1011\n",
      "Epoch 20/20\n",
      "282/282 [==============================] - 19s 69ms/step - loss: 0.0438 - root_mean_squared_error: 0.1008\n"
     ]
    }
   ],
   "source": [
    "from keras.metrics import RootMeanSquaredError \n",
    "model.compile(optimizer='adam', \n",
    "              loss='mae', \n",
    "              metrics=RootMeanSquaredError()) \n",
    "  \n",
    "history = model.fit(X_train, y_train, \n",
    "                    epochs=20)"
   ]
  },
  {
   "cell_type": "code",
   "execution_count": 74,
   "id": "fae792fb",
   "metadata": {},
   "outputs": [
    {
     "name": "stdout",
     "output_type": "stream",
     "text": [
      "Length of dataset: 9083\n",
      "Calculated training index: 8629\n",
      "Shape of testing: (514, 1)\n",
      "Shape of x_test before reshaping: (454, 60)\n",
      "Shape of X_test after reshaping: (454, 60, 1)\n",
      "15/15 [==============================] - 2s 22ms/step\n"
     ]
    }
   ],
   "source": [
    "# Calculate the training index as 95% of the total dataset length\n",
    "training = int(np.ceil(len(dataset) * 0.95))\n",
    "\n",
    "# Check the length of the dataset and the calculated training index\n",
    "print(\"Length of dataset:\", len(dataset))\n",
    "print(\"Calculated training index:\", training)\n",
    "\n",
    "# Ensure the calculated training index is within the bounds of the dataset\n",
    "if training >= len(dataset):\n",
    "    print(\"Error: Training index exceeds dataset length.\")\n",
    "else:\n",
    "    # Slice the scaled dataset to create the testing data\n",
    "    testing = ss[training - 60:, :]\n",
    "    print(\"Shape of testing:\", testing.shape)\n",
    "\n",
    "    # Check if testing data is empty\n",
    "    if testing.shape[0] == 0:\n",
    "        print(\"Error: Testing data is empty. Please check slicing operation.\")\n",
    "    else:\n",
    "        # Initialize x_test as an empty list to store input sequences\n",
    "        x_test = []\n",
    "\n",
    "        # Populate x_test with input sequences using a sliding window approach\n",
    "        for i in range(60, len(testing)):\n",
    "            x_test.append(testing[i-60:i, 0])\n",
    "\n",
    "        # Convert x_test to a NumPy array\n",
    "        x_test = np.array(x_test)\n",
    "        print(\"Shape of x_test before reshaping:\", x_test.shape)\n",
    "\n",
    "        # Reshape x_test to match the input shape expected by the model\n",
    "        X_test = x_test.reshape((x_test.shape[0], x_test.shape[1], 1))\n",
    "        print(\"Shape of X_test after reshaping:\", X_test.shape)\n",
    "\n",
    "        # Generate predictions using the model\n",
    "        pred = model.predict(X_test)\n"
   ]
  },
  {
   "cell_type": "code",
   "execution_count": 78,
   "id": "f4d3df89",
   "metadata": {},
   "outputs": [
    {
     "data": {
      "image/png": "[encoded data removed]",
      "text/plain": [
       "<Figure size 720x576 with 1 Axes>"
      ]
     },
     "metadata": {
      "needs_background": "light"
     },
     "output_type": "display_data"
    }
   ],
   "source": [
    "# Plotting the data only if 'Close' column exists in train\n",
    "if 'Close' in train.columns:\n",
    "    plt.figure(figsize=(10, 8)) \n",
    "    plt.plot(train['Close'], c=\"b\")  # Corrected 'Close' column name\n",
    "    plt.plot(test[['Close', 'Predictions']])  # Corrected 'Close' column name\n",
    "    plt.title('Microsoft Stock Close Price') \n",
    "    plt.ylabel(\"Close\") \n",
    "    plt.legend(['Train', 'Test', 'Predictions'])\n",
    "    plt.show()\n",
    "else:\n",
    "    print(\"Error: 'Close' column not found in train DataFrame.\")"
   ]
  },
  {
   "cell_type": "code",
   "execution_count": null,
   "id": "105382f9",
   "metadata": {},
   "outputs": [],
   "source": []
  }
 ],
 "metadata": {
  "kernelspec": {
   "display_name": "Python 3 (ipykernel)",
   "language": "python",
   "name": "python3"
  },
  "language_info": {
   "codemirror_mode": {
    "name": "ipython",
    "version": 3
   },
   "file_extension": ".py",
   "mimetype": "text/x-python",
   "name": "python",
   "nbconvert_exporter": "python",
   "pygments_lexer": "ipython3",
   "version": "3.10.11"
  }
 },
 "nbformat": 4,
 "nbformat_minor": 5
}
